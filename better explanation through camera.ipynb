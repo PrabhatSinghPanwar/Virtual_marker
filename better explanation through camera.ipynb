{
 "cells": [
  {
   "cell_type": "code",
   "execution_count": 33,
   "metadata": {},
   "outputs": [],
   "source": [
    "import cv2\n",
    "import numpy as np\n",
    "\n",
    "cam = cv2.VideoCapture(0)   #acceccing the default camera\n",
    "\n",
    "#here we are setting the size of the camera frame\n",
    "cam.set(3,640)            \n",
    "cam.set(4,480)            \n",
    "\n",
    "#for setting the brightness\n",
    "cam.set(10,150)           \n",
    "\n",
    "\n",
    "markerColors=[[0,153,0,4,255,255]]\n",
    "\n",
    "    \n",
    "    \n",
    "    \n",
    "    \n"
   ]
  },
  {
   "cell_type": "code",
   "execution_count": 34,
   "metadata": {},
   "outputs": [],
   "source": [
    "def findingColors(img, markerColors) :\n",
    "    \n",
    "    HSVimg = cv2.cvtColor(img, cv2.COLOR_BGR2HSV)\n",
    "    \n",
    "    lower = np.array(markerColors[0][0:3])\n",
    "    upper = np.array(markerColors[0][3:6])\n",
    "    \n",
    "    mask = cv2.inRange(HSVimg, lower, upper)\n",
    "    \n",
    "    cv2.imshow(\"mask image\", mask)"
   ]
  },
  {
   "cell_type": "code",
   "execution_count": 35,
   "metadata": {},
   "outputs": [],
   "source": [
    "while True :\n",
    "    success, img = cam.read()  #it will save our images in the 'img'  variable, and \n",
    "                               #'success' variable will store a boolean varible it will tell weather theimage is captured or not\n",
    "\n",
    "    findingColors(img, markerColors)\n",
    "    \n",
    "    cv2.imshow(\"camera image\",img)    #this will show the result\n",
    "    \n",
    "    if cv2.waitKey(1) & 0xFF ==ord('q') :\n",
    "        break;\n",
    "\n",
    "cam.release()\n",
    "cv2.destroyAllWindows()"
   ]
  },
  {
   "cell_type": "code",
   "execution_count": null,
   "metadata": {},
   "outputs": [],
   "source": []
  }
 ],
 "metadata": {
  "kernelspec": {
   "display_name": "Python 3",
   "language": "python",
   "name": "python3"
  },
  "language_info": {
   "codemirror_mode": {
    "name": "ipython",
    "version": 3
   },
   "file_extension": ".py",
   "mimetype": "text/x-python",
   "name": "python",
   "nbconvert_exporter": "python",
   "pygments_lexer": "ipython3",
   "version": "3.7.9"
  }
 },
 "nbformat": 4,
 "nbformat_minor": 4
}
