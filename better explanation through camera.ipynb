{
 "cells": [
  {
   "cell_type": "code",
   "execution_count": 22,
   "metadata": {},
   "outputs": [],
   "source": [
    "import cv2\n",
    "import numpy as np\n",
    "\n",
    "cam = cv2.VideoCapture(0)   #acceccing the default camera\n",
    "\n",
    "#here we are setting the size of the camera frame\n",
    "cam.set(3,640)            \n",
    "cam.set(4,480)            \n",
    "\n",
    "#for setting the brightness\n",
    "cam.set(10,150)           \n",
    "\n",
    "\n",
    "markerColors= [[0,153,0,4,255,255]]\n",
    "\n",
    "tipColors= [[17,125,249]]\n",
    "\n",
    "Points= []                              #[x, y, color index]  checking the value of x and y and drawing the points on \n",
    "    "
   ]
  },
  {
   "cell_type": "code",
   "execution_count": 23,
   "metadata": {},
   "outputs": [],
   "source": [
    "def findContours(img) :\n",
    "    \n",
    "    contours, Hierarchy = cv2.findContours(img, cv2.RETR_EXTERNAL, cv2.CHAIN_APPROX_NONE)\n",
    "    \n",
    "    x, y, width, height = 0,0,0,0     #if the object if not detected the value returned will be zero \n",
    "    \n",
    "    for cnt in contours :\n",
    "        area = cv2.contourArea(cnt)   #getting the contour Area\n",
    "        \n",
    "        \n",
    "        if area>500 :\n",
    "    #cv2.drawContours(ResultImg, cnt, -1, (255,0,0),3)      #this function just helps in creating a bounding box over the object\n",
    "            peri = cv2.arcLength(cnt, True)\n",
    "            \n",
    "            approx = cv2.approxPolyDP(cnt, 0.02*peri, True)\n",
    "            \n",
    "            \n",
    "            x, y, width, height = cv2.boundingRect(approx)\n",
    "            \n",
    "    return x+width//2,y           #returning the value for returning the tip's center position of the marker to write"
   ]
  },
  {
   "cell_type": "code",
   "execution_count": 24,
   "metadata": {},
   "outputs": [],
   "source": [
    "def findingColors(img, markerColors, tipColors) :\n",
    "    \n",
    "    HSVimg = cv2.cvtColor(img, cv2.COLOR_BGR2HSV)\n",
    "    \n",
    "    newPoints=[]\n",
    "    \n",
    "    i = 0                               #counter to change the color tipColors values\n",
    "    \n",
    "    for colors in markerColors : \n",
    "        lower = np.array(colors[0:3])\n",
    "        upper = np.array(colors[3:6])\n",
    "    \n",
    "        mask = cv2.inRange(HSVimg, lower, upper)\n",
    "    \n",
    "        x, y = findContours(mask)     #getting the value to draw our tip\n",
    "        cv2.circle(ResultImg,(x,y),8,tipColors[i],cv2.FILLED)        #creating the tip of our marker\n",
    "        \n",
    "        if x!=0 and y!=0 :\n",
    "            newPoints.append([x, y, i])\n",
    "        \n",
    "        ++i\n",
    "        \n",
    "    return newPoints"
   ]
  },
  {
   "cell_type": "code",
   "execution_count": 25,
   "metadata": {},
   "outputs": [],
   "source": [
    "def screenDrawing(Points, tipColors) :\n",
    "    \n",
    "    for pt in Points :\n",
    "        cv2.circle(ResultImg,(pt[0],pt[1]),8,tipColors[pt[2]],cv2.FILLED)\n",
    "    "
   ]
  },
  {
   "cell_type": "code",
   "execution_count": 26,
   "metadata": {},
   "outputs": [],
   "source": [
    "while True :\n",
    "    success, img = cam.read()  #it will save our images in the 'img'  variable, and \n",
    "                               #'success' variable will store a boolean varible it will tell weather theimage is captured or not\n",
    "    ResultImg = img.copy()\n",
    "        \n",
    "    newPoints= findingColors(img, markerColors, tipColors)\n",
    "    if len(newPoints) != 0 :\n",
    "        for nwp in newPoints :\n",
    "            Points.append(nwp)\n",
    "        \n",
    "    if len(Points)!=0 :\n",
    "        screenDrawing(Points, tipColors)\n",
    "        \n",
    "    \n",
    "    cv2.imshow(\"camera image\",ResultImg)    #this will show the result\n",
    "    \n",
    "    if cv2.waitKey(1) & 0xFF ==ord('q') :\n",
    "        break;\n",
    "\n",
    "cam.release()\n",
    "cv2.destroyAllWindows()"
   ]
  },
  {
   "cell_type": "code",
   "execution_count": null,
   "metadata": {},
   "outputs": [],
   "source": []
  }
 ],
 "metadata": {
  "kernelspec": {
   "display_name": "Python 3",
   "language": "python",
   "name": "python3"
  },
  "language_info": {
   "codemirror_mode": {
    "name": "ipython",
    "version": 3
   },
   "file_extension": ".py",
   "mimetype": "text/x-python",
   "name": "python",
   "nbconvert_exporter": "python",
   "pygments_lexer": "ipython3",
   "version": "3.7.9"
  }
 },
 "nbformat": 4,
 "nbformat_minor": 4
}
