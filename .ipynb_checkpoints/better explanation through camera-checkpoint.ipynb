{
 "cells": [
  {
   "cell_type": "code",
   "execution_count": 1,
   "metadata": {},
   "outputs": [],
   "source": [
    "import cv2\n",
    "\n",
    "cap = cv2.VideoCapture(0)   #acceccing the default camera\n",
    "\n",
    "#here we are setting the size of the camera frame\n",
    "cap.set(3,640)            \n",
    "cap.set(4,480)            \n",
    "\n",
    "#for setting the brightness\n",
    "cap.set(10,150)           \n",
    "\n",
    "\n",
    "def findColor(img) :\n",
    "    imgHSV=cv2.cvtColor(img,cv2.COLOR_BGR2HSV)\n",
    "    \n",
    "    lower= np.array([h_min,s_min,v_min])\n",
    "    upper= np.array([h_max,s_max,v_max])\n",
    "    \n",
    "    mask= cv2.inRange(imgHSV,lower,upper)\n",
    "\n",
    "\n",
    "\n",
    "while True :\n",
    "    success, img = cap.read()  #it will save our images in the 'img'  variable, and \n",
    "                               #'success' variable will store a boolean varible it will tell weather theimage is captured or not\n",
    "\n",
    "    cv2.imshow(\"Video\",img)    #this will show the result\n",
    "    \n",
    "    if cv2.waitKey(1) & 0xFF ==ord('q') :\n",
    "        break;"
   ]
  },
  {
   "cell_type": "code",
   "execution_count": null,
   "metadata": {},
   "outputs": [],
   "source": []
  }
 ],
 "metadata": {
  "kernelspec": {
   "display_name": "Python 3",
   "language": "python",
   "name": "python3"
  },
  "language_info": {
   "codemirror_mode": {
    "name": "ipython",
    "version": 3
   },
   "file_extension": ".py",
   "mimetype": "text/x-python",
   "name": "python",
   "nbconvert_exporter": "python",
   "pygments_lexer": "ipython3",
   "version": "3.7.9"
  }
 },
 "nbformat": 4,
 "nbformat_minor": 4
}
